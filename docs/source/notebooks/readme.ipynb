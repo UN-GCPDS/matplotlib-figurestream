{
 "cells": [
  {
   "cell_type": "markdown",
   "metadata": {},
   "source": [
    "# Matplotlib-FigureStream\n",
    "\n",
    "A backend for serve Matplotlib animations as web streams.\n",
    "\n",
    "![GitHub top language](https://img.shields.io/github/languages/top/un-gcpds/matplotlib-figurestream?)\n",
    "![PyPI - License](https://img.shields.io/pypi/l/figurestream?)\n",
    "![PyPI](https://img.shields.io/pypi/v/figurestream?)\n",
    "![PyPI - Status](https://img.shields.io/pypi/status/figurestream?)\n",
    "![PyPI - Python Version](https://img.shields.io/pypi/pyversions/figurestream?)\n",
    "![GitHub last commit](https://img.shields.io/github/last-commit/un-gcpds/matplotlib-figurestream?)\n",
    "![CodeFactor Grade](https://img.shields.io/codefactor/grade/github/UN-GCPDS/matplotlib-figurestream?)\n",
    "[![Documentation Status](https://readthedocs.org/projects/figurestream/badge/?version=latest)](https://figurestream.readthedocs.io/en/latest/?badge=latest)"
   ]
  },
  {
   "cell_type": "markdown",
   "metadata": {},
   "source": [
    "## Instalation"
   ]
  },
  {
   "cell_type": "code",
   "execution_count": null,
   "metadata": {},
   "outputs": [],
   "source": [
    "pip install figurestream"
   ]
  },
  {
   "cell_type": "markdown",
   "metadata": {},
   "source": [
    "## Bare minimum\n",
    "\n",
    "By default, the stream serves on http://localhost:5000"
   ]
  },
  {
   "cell_type": "code",
   "execution_count": null,
   "metadata": {},
   "outputs": [],
   "source": [
    "# FigureStream replace any Figure object \n",
    "from figurestream import FigureStream\n",
    "\n",
    "import numpy as np\n",
    "from datetime import datetime\n",
    "\n",
    "# FigureStream can be used like any Figure object\n",
    "stream = FigureStream()\n",
    "sub = stream.add_subplot(111)\n",
    "x = np.linspace(0, 3, 1000)\n",
    "\n",
    "# Update animation loop\n",
    "while True:\n",
    "    sub.clear()  # clear the canvas\n",
    "\n",
    "    # ------------------------------------------------------------------------\n",
    "    # Any plot operation \n",
    "    sub.set_title('FigureStream')\n",
    "    sub.set_xlabel('Time [s]')\n",
    "    sub.set_ylabel('Amplitude')\n",
    "    sub.plot(x, np.sin(2 * np.pi * 2 * (x + datetime.now().timestamp())))\n",
    "    sub.plot(x, np.sin(2 * np.pi * 0.5 * (x + datetime.now().timestamp())))\n",
    "    # ------------------------------------------------------------------------\n",
    "    \n",
    "    stream.feed()  # push the frame into the server"
   ]
  },
  {
   "cell_type": "markdown",
   "metadata": {},
   "source": [
    "For fast updates is recommended to use `set_data`, `set_ydata` and `set_xdata` instead of clear and draw again in each loop, also `FigureStream` can be implemented from a custom class."
   ]
  },
  {
   "cell_type": "code",
   "execution_count": null,
   "metadata": {},
   "outputs": [],
   "source": [
    "# FigureStream replace any Figure object\n",
    "from figurestream import FigureStream\n",
    "\n",
    "import numpy as np\n",
    "from datetime import datetime\n",
    "\n",
    "\n",
    "class FastAnimation(FigureStream):\n",
    "\n",
    "    def __init__(self, *args, **kwargs):\n",
    "        super().__init__(*args, **kwargs)\n",
    "\n",
    "        axis = self.add_subplot(111)\n",
    "        self.x = np.linspace(0, 3, 1000)\n",
    "        \n",
    "        # ------------------------------------------------------------------------\n",
    "        # Single time plot configuration\n",
    "        axis.set_title('FigureStream')\n",
    "        axis.set_xlabel('Time [s]')\n",
    "        axis.set_ylabel('Amplitude')\n",
    "\n",
    "        axis.set_ylim(-1.2, 1.2)\n",
    "        axis.set_xlim(0, 3)\n",
    "        \n",
    "        # Lines objects\n",
    "        self.line1, *_ = axis.plot(self.x, np.zeros(self.x.size))\n",
    "        self.line2, *_ = axis.plot(self.x, np.zeros(self.x.size))\n",
    "        # ------------------------------------------------------------------------\n",
    "\n",
    "        self.anim()\n",
    "\n",
    "    def anim(self):\n",
    "        # Update animation loop\n",
    "        while True:\n",
    "            # ------------------------------------------------------------------------\n",
    "            # Update only the data values is faster than update all the plot\n",
    "            self.line1.set_ydata(np.sin(2 * np.pi * 2 * (self.x + datetime.now().timestamp())))\n",
    "            self.line2.set_ydata(np.sin(2 * np.pi * 0.5 * (self.x + datetime.now().timestamp())))\n",
    "            # ------------------------------------------------------------------------\n",
    "            \n",
    "            self.feed() # push the frame into the server\n",
    "\n",
    "\n",
    "if __name__ == '__main__':\n",
    "    FastAnimation()"
   ]
  },
  {
   "cell_type": "markdown",
   "metadata": {},
   "source": [
    "## Change port and endpoint"
   ]
  },
  {
   "cell_type": "markdown",
   "metadata": {},
   "source": [
    "If we want to serve the stream in a different place we can use the parameters `port` and `endpoint`, for example:"
   ]
  },
  {
   "cell_type": "code",
   "execution_count": null,
   "metadata": {},
   "outputs": [],
   "source": [
    "FigureStream(port='5500', endpoint='figure.jpeg')"
   ]
  },
  {
   "cell_type": "markdown",
   "metadata": {},
   "source": [
    "now the stream will serve on http://localhost:5500/figure.jpeg"
   ]
  }
 ],
 "metadata": {
  "kernelspec": {
   "display_name": "Python 3",
   "language": "python",
   "name": "python3"
  },
  "language_info": {
   "codemirror_mode": {
    "name": "ipython",
    "version": 3
   },
   "file_extension": ".py",
   "mimetype": "text/x-python",
   "name": "python",
   "nbconvert_exporter": "python",
   "pygments_lexer": "ipython3",
   "version": "3.9.1"
  }
 },
 "nbformat": 4,
 "nbformat_minor": 4
}
